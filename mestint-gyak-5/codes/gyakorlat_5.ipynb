{
 "cells": [
  {
   "cell_type": "markdown",
   "metadata": {},
   "source": [
    "# 5. Gyakrolat\n",
    "![menetrend.png](images/menetrend.png)"
   ]
  },
  {
   "cell_type": "markdown",
   "metadata": {},
   "source": [
    "## Nem informált keresési stratégiák\n",
    "\n",
    "Tulajdonságuk, hogy csak a probléma definiálásakor megadott informárciókat használják fel\n",
    "\n",
    "Példák nem infromált keresési stratégiákra:\n",
    "\n",
    "1. Szélességi keresés (Breadth first)\n",
    "2. Mélységi keresés (Depth first)\n",
    "3. Egyenletes költségű keresés (Uniform cost)\n",
    "4. Mélységkorlátozott keresés (Depth limited)\n",
    "5. Iteratívan mélyülő mélységi keresés (Iterative depth first)"
   ]
  },
  {
   "cell_type": "markdown",
   "metadata": {},
   "source": [
    "[![IMAGE ALT TEXT](images/searcher_video.png)](https://www.youtube.com/watch?v=PuFJSaXGlgI \"Depth and Breadth-First Search Visualization\")"
   ]
  },
  {
   "cell_type": "markdown",
   "metadata": {},
   "source": [
    "### Szélességi keresés\n",
    "![bfs.gif](images/bfs.gif)"
   ]
  },
  {
   "cell_type": "code",
   "execution_count": 44,
   "metadata": {},
   "outputs": [
    {
     "data": {
      "text/plain": [
       "[State(disk=0, rod='3'),\n",
       " State(disk=1, rod='2'),\n",
       " State(disk=0, rod='2'),\n",
       " State(disk=2, rod='3'),\n",
       " State(disk=0, rod='1'),\n",
       " State(disk=1, rod='3'),\n",
       " State(disk=0, rod='3')]"
      ]
     },
     "execution_count": 44,
     "metadata": {},
     "output_type": "execute_result"
    }
   ],
   "source": [
    "from node import Node\n",
    "from hanoi import Hanoi\n",
    "from collections import deque\n",
    "\n",
    "def breadth_first_tree_search(problem):\n",
    "    # kezdő állapot kiolvasása és FIFO sorba helyezése\n",
    "    frontier = deque([Node(problem.initial)])\n",
    "\n",
    "    # amig nem értük el a határt\n",
    "    while frontier:\n",
    "        # legszélsőbb elem kiemelése\n",
    "        node = frontier.popleft()\n",
    "\n",
    "        # ha cél állapotban vagyunk akkor vége\n",
    "        if problem.goal_test(node.state):\n",
    "            return node\n",
    "\n",
    "        # a kiemelt elemből az összes új állapot legyártása az operátorok segítségével\n",
    "        frontier.extend(node.expand(problem))\n",
    "        \n",
    "    return None\n",
    "\n",
    "h = Hanoi(3)\n",
    "breadth_first_tree_search(h).solution()"
   ]
  },
  {
   "cell_type": "code",
   "execution_count": 37,
   "metadata": {},
   "outputs": [
    {
     "data": {
      "text/plain": [
       "[State(disk=0, rod='3'),\n",
       " State(disk=1, rod='2'),\n",
       " State(disk=0, rod='2'),\n",
       " State(disk=2, rod='3'),\n",
       " State(disk=0, rod='1'),\n",
       " State(disk=1, rod='3'),\n",
       " State(disk=0, rod='3')]"
      ]
     },
     "execution_count": 37,
     "metadata": {},
     "output_type": "execute_result"
    }
   ],
   "source": [
    "from hanoi import Hanoi\n",
    "from search import breadth_first_tree_search\n",
    "\n",
    "h = Hanoi(3)\n",
    "breadth_first_tree_search(h).solution()"
   ]
  },
  {
   "cell_type": "markdown",
   "metadata": {},
   "source": [
    "![tree_b.png](images/tree_b.png)"
   ]
  },
  {
   "cell_type": "markdown",
   "metadata": {},
   "source": [
    "### Gráf Hurok\n",
    "![loop.gif](images/loop.png)"
   ]
  },
  {
   "cell_type": "code",
   "execution_count": 45,
   "metadata": {},
   "outputs": [
    {
     "data": {
      "text/plain": [
       "[State(disk=0, rod='3'),\n",
       " State(disk=1, rod='2'),\n",
       " State(disk=0, rod='2'),\n",
       " State(disk=2, rod='3'),\n",
       " State(disk=0, rod='1'),\n",
       " State(disk=1, rod='3'),\n",
       " State(disk=0, rod='3')]"
      ]
     },
     "execution_count": 45,
     "metadata": {},
     "output_type": "execute_result"
    }
   ],
   "source": [
    "from node import Node\n",
    "from hanoi import Hanoi\n",
    "from collections import deque\n",
    "\n",
    "def breadth_first_graph_search(problem):\n",
    "    # kezdő állapot kiolvasása\n",
    "    node = Node(problem.initial)\n",
    "    \n",
    "    # ha cél állapotban vagyunk akkor vége\n",
    "    if problem.goal_test(node.state):\n",
    "        return node\n",
    "\n",
    "    # elem FIFO sorba helyezése\n",
    "    frontier = deque([node])\n",
    "    # halmaz deklarálása\n",
    "    explored = set()\n",
    "    \n",
    "    while frontier:\n",
    "        # legszélsőbb elem kiemelése\n",
    "        node = frontier.popleft()\n",
    "        # legszélsőbb elem hozzá adása a halmaz hoz\n",
    "        explored.add(node.state)\n",
    "\n",
    "        # legszélsőbb elemből operátorok segítségével legyártott elemek kiolvasása\n",
    "        for child in node.expand(problem):\n",
    "            # Ha a gyermek még felnem fedezett és még nem része FIFO sornak (szélső elemeknek) akkor\n",
    "            if child.state not in explored and child not in frontier:\n",
    "                # ha cél állapotban vagyunk akkor vége\n",
    "                if problem.goal_test(child.state):\n",
    "                    return child\n",
    "                # potenciális szélső elemek bővítése\n",
    "                frontier.append(child)\n",
    "    return None\n",
    "\n",
    "h = Hanoi(3)\n",
    "breadth_first_graph_search(h).solution()"
   ]
  },
  {
   "cell_type": "code",
   "execution_count": 43,
   "metadata": {},
   "outputs": [
    {
     "data": {
      "text/plain": [
       "[State(disk=0, rod='3'),\n",
       " State(disk=1, rod='2'),\n",
       " State(disk=0, rod='2'),\n",
       " State(disk=2, rod='3'),\n",
       " State(disk=0, rod='1'),\n",
       " State(disk=1, rod='3'),\n",
       " State(disk=0, rod='3')]"
      ]
     },
     "execution_count": 43,
     "metadata": {},
     "output_type": "execute_result"
    }
   ],
   "source": [
    "from hanoi import Hanoi\n",
    "from search import breadth_first_graph_search\n",
    "\n",
    "h = Hanoi(3)\n",
    "breadth_first_graph_search(h).solution()"
   ]
  },
  {
   "cell_type": "markdown",
   "metadata": {},
   "source": [
    "![graf_b.png](images/graf_b.png)"
   ]
  },
  {
   "cell_type": "markdown",
   "metadata": {},
   "source": [
    "### Mélységi keresés\n",
    "![dfs.gif](images/dfs.gif)"
   ]
  },
  {
   "cell_type": "code",
   "execution_count": 25,
   "metadata": {},
   "outputs": [],
   "source": [
    "from hanoi import Hanoi\n",
    "from search import depth_first_tree_search\n",
    "\n",
    "h = Hanoi(3)\n",
    "depth_first_tree_search(h).solution()"
   ]
  },
  {
   "cell_type": "code",
   "execution_count": 5,
   "metadata": {},
   "outputs": [],
   "source": [
    "from node import Node\n",
    "from hanoi import Hanoi\n",
    "\n",
    "def depth_first_tree_search(problem): \n",
    "    # Kezdő elem verembe helyezése\n",
    "    frontier = [Node(problem.initial)]  \n",
    "\n",
    "    # Amig tudunk mélyebre menni\n",
    "    while frontier:\n",
    "        # Legfelső elem kiemelése a veremből\n",
    "        node = frontier.pop()\n",
    "\n",
    "        # ha cél állapotban vagyunk vége\n",
    "        if problem.goal_test(node.state):\n",
    "            return node\n",
    "\n",
    "        # Az összes gyermek legyártása az operátorok segítségével\n",
    "        frontier.extend(node.expand(problem))\n",
    "        \n",
    "    return None\n",
    "\n",
    "h = Hanoi(3)\n",
    "depth_first_tree_search(h).solution()"
   ]
  },
  {
   "cell_type": "markdown",
   "metadata": {},
   "source": [
    "![tree_d.png](images/tree_d.png)"
   ]
  },
  {
   "cell_type": "code",
   "execution_count": 3,
   "metadata": {},
   "outputs": [
    {
     "data": {
      "text/plain": [
       "[State(disk=0, rod='3'),\n",
       " State(disk=1, rod='2'),\n",
       " State(disk=0, rod='2'),\n",
       " State(disk=2, rod='3'),\n",
       " State(disk=0, rod='3'),\n",
       " State(disk=1, rod='1'),\n",
       " State(disk=0, rod='2'),\n",
       " State(disk=1, rod='3'),\n",
       " State(disk=0, rod='3')]"
      ]
     },
     "execution_count": 3,
     "metadata": {},
     "output_type": "execute_result"
    }
   ],
   "source": [
    "from node import Node\n",
    "from hanoi import Hanoi\n",
    "\n",
    "def depth_first_graph_search(problem):\n",
    "    # Kezdő elem verembe helyezése\n",
    "    frontier = [(Node(problem.initial))] \n",
    "    # halmaz deklarálása a már bejárt elemekhez\n",
    "    explored = set()\n",
    "\n",
    "    # Amig tudunk mélyebre menni\n",
    "    while frontier:\n",
    "        # Legfelső elem kiemelése a veremből\n",
    "        node = frontier.pop()\n",
    "\n",
    "        # ha cél állapotban vagyunk vége\n",
    "        if problem.goal_test(node.state):\n",
    "            return node\n",
    "\n",
    "        # állapot feljegyzése hogy tudjuk hogy már jártunk itt\n",
    "        explored.add(node.state)\n",
    "\n",
    "        # verem bővítése amig benemjárt elemekkel\n",
    "        frontier.extend(child for child in node.expand(problem)\n",
    "                        if child.state not in explored and child not in frontier)\n",
    "    return None\n",
    "\n",
    "h = Hanoi(3)\n",
    "depth_first_graph_search(h).solution()"
   ]
  },
  {
   "cell_type": "code",
   "execution_count": 4,
   "metadata": {},
   "outputs": [
    {
     "data": {
      "text/plain": [
       "[State(disk=0, rod='3'),\n",
       " State(disk=1, rod='2'),\n",
       " State(disk=0, rod='2'),\n",
       " State(disk=2, rod='3'),\n",
       " State(disk=0, rod='3'),\n",
       " State(disk=1, rod='1'),\n",
       " State(disk=0, rod='2'),\n",
       " State(disk=1, rod='3'),\n",
       " State(disk=0, rod='3')]"
      ]
     },
     "execution_count": 4,
     "metadata": {},
     "output_type": "execute_result"
    }
   ],
   "source": [
    "from hanoi import Hanoi\n",
    "from search import depth_first_graph_search\n",
    "\n",
    "h = Hanoi(3)\n",
    "depth_first_graph_search(h).solution()"
   ]
  },
  {
   "cell_type": "markdown",
   "metadata": {},
   "source": [
    "![graf_d.png](images/graf_d.png)"
   ]
  },
  {
   "cell_type": "markdown",
   "metadata": {},
   "source": [
    "### Egyenletes költségű keresés\n",
    "![greedy.gif](images/greedy.gif)"
   ]
  },
  {
   "cell_type": "code",
   "execution_count": 5,
   "metadata": {},
   "outputs": [
    {
     "data": {
      "text/plain": [
       "[State(disk=0, rod='3'),\n",
       " State(disk=1, rod='2'),\n",
       " State(disk=0, rod='2'),\n",
       " State(disk=2, rod='3'),\n",
       " State(disk=0, rod='1'),\n",
       " State(disk=1, rod='3'),\n",
       " State(disk=0, rod='3')]"
      ]
     },
     "execution_count": 5,
     "metadata": {},
     "output_type": "execute_result"
    }
   ],
   "source": [
    "from hanoi import Hanoi\n",
    "from node import Node\n",
    "from utils import *\n",
    "\n",
    "def best_first_graph_search(problem, f, display=False):\n",
    "    f = memoize(f, 'f')\n",
    "    # kezdő állapot létrehozása\n",
    "    node = Node(problem.initial)\n",
    "    # prioritásos sor létrehozása\n",
    "    frontier = PriorityQueue('min', f)\n",
    "    # kezdő állapot felvétele a prioritásos sorba\n",
    "    frontier.append(node)\n",
    "    # halmaz létrehozása a már megvizsgál elemekhez\n",
    "    explored = set()\n",
    "\n",
    "    # amíg találunk elemet\n",
    "    while frontier:\n",
    "        # elem kivétele a verem tetejéről\n",
    "        node = frontier.pop()\n",
    "        \n",
    "        # ha cél állapotban vagyunk a kkor kész\n",
    "        if problem.goal_test(node.state):\n",
    "            if display:\n",
    "                print(len(explored), \"paths have been expanded and\", len(frontier), \"paths remain in the frontier\")\n",
    "            return node\n",
    "        \n",
    "        # feldolgozott elemek bővítése\n",
    "        explored.add(node.state)\n",
    "\n",
    "        # operátorral legyártott gyermek elemek bejárása\n",
    "        for child in node.expand(problem):\n",
    "            # ha még nem dolgoztuk fel\n",
    "            if child.state not in explored and child not in frontier:\n",
    "                frontier.append(child)\n",
    "            # ha az adott pozicióbol elérhető gyermek függvény szerinti értéke\n",
    "            # kisebb mint a már tárolté akkor újra rögzítjük\n",
    "            elif child in frontier:\n",
    "                if f(child) < frontier[child]:\n",
    "                    del frontier[child]\n",
    "                    frontier.append(child)\n",
    "    return None\n",
    "\n",
    "def uniform_cost_search(problem, display=False):\n",
    "    return best_first_graph_search(problem, lambda node: node.path_cost, display)\n",
    "\n",
    "h = Hanoi(3)\n",
    "uniform_cost_search(h).solution()"
   ]
  },
  {
   "cell_type": "code",
   "execution_count": 1,
   "metadata": {},
   "outputs": [
    {
     "data": {
      "text/plain": [
       "[State(disk=0, rod='3'),\n",
       " State(disk=1, rod='2'),\n",
       " State(disk=0, rod='2'),\n",
       " State(disk=2, rod='3'),\n",
       " State(disk=0, rod='1'),\n",
       " State(disk=1, rod='3'),\n",
       " State(disk=0, rod='3')]"
      ]
     },
     "execution_count": 1,
     "metadata": {},
     "output_type": "execute_result"
    }
   ],
   "source": [
    "from hanoi import Hanoi\n",
    "from search import uniform_cost_search\n",
    "\n",
    "h = Hanoi(3)\n",
    "uniform_cost_search(h).solution()"
   ]
  },
  {
   "cell_type": "markdown",
   "metadata": {},
   "source": [
    "### Mélységkorlátozott keresés\n",
    "![dls.png](images/dls.png)"
   ]
  },
  {
   "cell_type": "code",
   "execution_count": 12,
   "metadata": {},
   "outputs": [
    {
     "data": {
      "text/plain": [
       "[State(disk=0, rod='2'),\n",
       " State(disk=1, rod='3'),\n",
       " State(disk=0, rod='1'),\n",
       " State(disk=0, rod='2'),\n",
       " State(disk=0, rod='1'),\n",
       " State(disk=1, rod='2'),\n",
       " State(disk=0, rod='2'),\n",
       " State(disk=2, rod='3'),\n",
       " State(disk=0, rod='1'),\n",
       " State(disk=1, rod='3'),\n",
       " State(disk=0, rod='2'),\n",
       " State(disk=0, rod='3')]"
      ]
     },
     "execution_count": 12,
     "metadata": {},
     "output_type": "execute_result"
    }
   ],
   "source": [
    "from node import Node\n",
    "from hanoi import Hanoi\n",
    "\n",
    "def depth_limited_search(problem, limit=50):\n",
    "    # rekurzív deep limited search függvény\n",
    "    def recursive_dls(node, problem, limit):\n",
    "        # Ha cél állapotban vagyunk akkor vége\n",
    "        if problem.goal_test(node.state):\n",
    "            return node\n",
    "        # Ha elértük a limetet akkor vége mélyebre nem mehetünk\n",
    "        elif limit == 0:\n",
    "            return 'cutoff'\n",
    "        else:\n",
    "            # Nem történt vágás\n",
    "            cutoff_occurred = False\n",
    "\n",
    "            # gyermekek legyártása az operátorokkal\n",
    "            # print(node, node.expand(problem))\n",
    "            for child in node.expand(problem):\n",
    "                # gyermek elemből indulva ismétleés\n",
    "                result = recursive_dls(child, problem, limit - 1)\n",
    "                if result == 'cutoff':\n",
    "                    cutoff_occurred = True\n",
    "                elif result is not None:\n",
    "                    return result\n",
    "            return 'cutoff' if cutoff_occurred else None\n",
    "\n",
    "    # Body of depth_limited_search:\n",
    "    return recursive_dls(Node(problem.initial), problem, limit)\n",
    "\n",
    "h = Hanoi(3)\n",
    "depth_limited_search(h, limit=12).solution()"
   ]
  },
  {
   "cell_type": "code",
   "execution_count": 13,
   "metadata": {},
   "outputs": [
    {
     "data": {
      "text/plain": [
       "[State(disk=0, rod='2'),\n",
       " State(disk=1, rod='3'),\n",
       " State(disk=0, rod='1'),\n",
       " State(disk=1, rod='2'),\n",
       " State(disk=0, rod='2'),\n",
       " State(disk=2, rod='3'),\n",
       " State(disk=0, rod='1'),\n",
       " State(disk=1, rod='3'),\n",
       " State(disk=0, rod='2'),\n",
       " State(disk=0, rod='3')]"
      ]
     },
     "execution_count": 13,
     "metadata": {},
     "output_type": "execute_result"
    }
   ],
   "source": [
    "from hanoi import Hanoi\n",
    "from search import depth_limited_search\n",
    "\n",
    "h = Hanoi(3)\n",
    "depth_limited_search(h, limit=10).solution()"
   ]
  },
  {
   "cell_type": "markdown",
   "metadata": {},
   "source": [
    "### Iteratívan mélyülő mélységi keresés"
   ]
  },
  {
   "cell_type": "code",
   "execution_count": 14,
   "metadata": {},
   "outputs": [
    {
     "data": {
      "text/plain": [
       "[State(disk=0, rod='3'),\n",
       " State(disk=1, rod='2'),\n",
       " State(disk=0, rod='2'),\n",
       " State(disk=2, rod='3'),\n",
       " State(disk=0, rod='1'),\n",
       " State(disk=1, rod='3'),\n",
       " State(disk=0, rod='3')]"
      ]
     },
     "execution_count": 14,
     "metadata": {},
     "output_type": "execute_result"
    }
   ],
   "source": [
    "import sys\n",
    "from hanoi import Hanoi\n",
    "from search import iterative_deepening_search\n",
    "\n",
    "def iterative_deepening_search(problem):\n",
    "    # Elindulunk egy maximális mélységtől és addig növeljük azt amíg célba nem érünk\n",
    "    for depth in range(sys.maxsize):\n",
    "        result = depth_limited_search(problem, depth)\n",
    "        if result != 'cutoff':\n",
    "            return result\n",
    "\n",
    "h = Hanoi(3)\n",
    "iterative_deepening_search(h).solution()"
   ]
  }
 ],
 "metadata": {
  "interpreter": {
   "hash": "3d2bd7a7448c3ebd5a86db64bf6ae9edc3c45eca3bac2c6c2e40e2e3fa30e33b"
  },
  "kernelspec": {
   "display_name": "Python 3.8.12 ('MetaL')",
   "language": "python",
   "name": "python3"
  },
  "language_info": {
   "codemirror_mode": {
    "name": "ipython",
    "version": 3
   },
   "file_extension": ".py",
   "mimetype": "text/x-python",
   "name": "python",
   "nbconvert_exporter": "python",
   "pygments_lexer": "ipython3",
   "version": "3.8.12"
  },
  "orig_nbformat": 4
 },
 "nbformat": 4,
 "nbformat_minor": 2
}
