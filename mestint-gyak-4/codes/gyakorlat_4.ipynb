{
 "cells": [
  {
   "cell_type": "markdown",
   "metadata": {},
   "source": [
    "# 3. Gyakrolat\n",
    "![menetrend.png](images/menetrend.png)"
   ]
  },
  {
   "cell_type": "markdown",
   "metadata": {},
   "source": [
    "## Node\n",
    "![graf.png](images/graf.png)"
   ]
  },
  {
   "cell_type": "code",
   "execution_count": null,
   "metadata": {},
   "outputs": [],
   "source": [
    "from node import Node"
   ]
  },
  {
   "cell_type": "code",
   "execution_count": null,
   "metadata": {},
   "outputs": [],
   "source": [
    "state1 = Node(1)\n",
    "type(state1)"
   ]
  },
  {
   "cell_type": "code",
   "execution_count": null,
   "metadata": {},
   "outputs": [],
   "source": [
    "# __repr__\n",
    "state2 = Node(state=2, parent=state1)\n",
    "# print(state2)\n",
    "state2"
   ]
  },
  {
   "cell_type": "code",
   "execution_count": null,
   "metadata": {},
   "outputs": [],
   "source": [
    "# __eq__\n",
    "print(state1 is object)"
   ]
  },
  {
   "cell_type": "code",
   "execution_count": null,
   "metadata": {},
   "outputs": [],
   "source": [
    "# __lt__\n",
    "if state1 > state2:\n",
    "    print(\"state1 a nagyobb\")\n",
    "elif state1 < state2:\n",
    "    print(\"state2 a nagyobb\")\n",
    "else:\n",
    "    print(\"Egyenlőek\")"
   ]
  },
  {
   "cell_type": "code",
   "execution_count": null,
   "metadata": {},
   "outputs": [],
   "source": [
    "# __hash__\n",
    "state1 = Node(1)\n",
    "hash(state1)"
   ]
  },
  {
   "cell_type": "markdown",
   "metadata": {},
   "source": [
    "## Probléma\n",
    "![problem.png](images/problem.png)"
   ]
  },
  {
   "cell_type": "code",
   "execution_count": null,
   "metadata": {},
   "outputs": [],
   "source": [
    "from problem import Problem\n",
    "\n",
    "problem = Problem((5,0,0), [(4,1,0),(4,0,1)])\n",
    "problem.initial, problem.goal"
   ]
  },
  {
   "cell_type": "markdown",
   "metadata": {},
   "source": [
    "## 3 Korsó\n",
    "![3_korso.png](images/3_korso.png)"
   ]
  },
  {
   "cell_type": "code",
   "execution_count": null,
   "metadata": {},
   "outputs": [],
   "source": [
    "from cup3 import Cup3\n",
    "\n",
    "c = Cup3((5,0,0), [(4,1,0),(4,0,1)])"
   ]
  },
  {
   "cell_type": "markdown",
   "metadata": {},
   "source": [
    "### Próba hiba módszer\n",
    "![trial_error.png](images/trial_error.png)"
   ]
  },
  {
   "cell_type": "code",
   "execution_count": null,
   "metadata": {},
   "outputs": [],
   "source": [
    "from search import trial_error\n",
    "\n",
    "print(trial_error(c).solution())"
   ]
  },
  {
   "cell_type": "code",
   "execution_count": null,
   "metadata": {},
   "outputs": [],
   "source": [
    "print(trial_error(c).solution())"
   ]
  },
  {
   "cell_type": "markdown",
   "metadata": {},
   "source": [
    "### Hegymászó módszer\n",
    "![hill_climbing.png](images/hill_climbing.png)"
   ]
  },
  {
   "cell_type": "code",
   "execution_count": null,
   "metadata": {},
   "outputs": [],
   "source": [
    "from search import hill_climbing_for_3Cup"
   ]
  },
  {
   "cell_type": "code",
   "execution_count": null,
   "metadata": {},
   "outputs": [],
   "source": [
    "# A heurisztika lényeg az hogy ha minél több üres korsót találunk annál távolabb vagyunk\n",
    "# a megoldástól\n",
    "def heuristic_calc_empty_jar(State):\n",
    "    if State==(4,0,1) or State == (4,1,0):\n",
    "        return 0\n",
    "    c=0\n",
    "    for i in State:\n",
    "        if i ==0:\n",
    "            c+=1\n",
    "    return c+1\n",
    "\n",
    "print(hill_climbing_for_3Cup(c, heuristic_calc_empty_jar).solution())"
   ]
  },
  {
   "cell_type": "code",
   "execution_count": null,
   "metadata": {},
   "outputs": [],
   "source": [
    "for i in range(10):\n",
    "    print(hill_climbing_for_3Cup(c, heuristic_calc_empty_jar).solution())"
   ]
  },
  {
   "cell_type": "code",
   "execution_count": null,
   "metadata": {},
   "outputs": [],
   "source": [
    "# Mennyi folyadék van az első korsóban és az milyen távol van a 4-től\n",
    "def heuristic_abs(State):\n",
    "    print(abs(State[0] - 5))\n",
    "    return abs(State[0] - 4)\n",
    "\n",
    "print(hill_climbing_for_3Cup(c, heuristic_abs).solution())"
   ]
  },
  {
   "cell_type": "code",
   "execution_count": null,
   "metadata": {},
   "outputs": [],
   "source": [
    "def heuristic_zero(State):\n",
    "    return 0\n",
    "\n",
    "print(hill_climbing_for_3Cup(c, heuristic_zero).solution())"
   ]
  },
  {
   "cell_type": "markdown",
   "metadata": {},
   "source": [
    "## Hanoi tornyai\n",
    "![hanoi.png](images/hanoi.png)"
   ]
  },
  {
   "cell_type": "code",
   "execution_count": null,
   "metadata": {},
   "outputs": [],
   "source": [
    "from hanoi import Hanoi"
   ]
  },
  {
   "cell_type": "code",
   "execution_count": null,
   "metadata": {},
   "outputs": [],
   "source": [
    "h = Hanoi(3)\n",
    "h.size, h.initial, h.goal"
   ]
  },
  {
   "cell_type": "code",
   "execution_count": null,
   "metadata": {},
   "outputs": [],
   "source": [
    "from collections import namedtuple\n",
    "State = namedtuple(\"State\", [\"disk\",\"rod\"])\n",
    "State"
   ]
  },
  {
   "cell_type": "code",
   "execution_count": null,
   "metadata": {},
   "outputs": [],
   "source": [
    "trial_error(h).solution()"
   ]
  }
 ],
 "metadata": {
  "interpreter": {
   "hash": "3d2bd7a7448c3ebd5a86db64bf6ae9edc3c45eca3bac2c6c2e40e2e3fa30e33b"
  },
  "kernelspec": {
   "display_name": "Python 3.8.12 ('MetaL')",
   "language": "python",
   "name": "python3"
  },
  "language_info": {
   "codemirror_mode": {
    "name": "ipython",
    "version": 3
   },
   "file_extension": ".py",
   "mimetype": "text/x-python",
   "name": "python",
   "nbconvert_exporter": "python",
   "pygments_lexer": "ipython3",
   "version": "3.8.12"
  },
  "orig_nbformat": 4
 },
 "nbformat": 4,
 "nbformat_minor": 2
}
