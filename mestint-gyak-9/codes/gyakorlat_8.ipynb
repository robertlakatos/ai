{
 "cells": [
  {
   "cell_type": "markdown",
   "metadata": {},
   "source": [
    "## `GameState` namedtuple\n",
    "\n",
    "A „GameState” egy [namedtuple](https://docs.python.org/3.5/library/collections.html#collections.namedtuple), amely a játék aktuális állapotát jelzi. Arra használják, hogy segítsen ábrázolni azokat a játékokat, amelyek állapotát nem lehet könnyen ábrázolni, vagy olyan játékokhoz, amelyek memóra táblát igényelnek, mint például a Tic-Tac-Toe.\n",
    "\n",
    "A \"játékállapot\" meghatározása a következő:\n",
    "\n",
    "`GameState = namedtuple('GameState', 'to_move, utility, board, moves')'\n",
    "\n",
    "* `to_move`: Azt jelzi, hogy kié a következő lépés.\n",
    "\n",
    "* `utility`: A játék állapotának az eredményét tárolja. Az eredmény a tárolása hasznos, mert amikor egy Minimax vagy Alphabeta keresést végzünk, sok rekurzív hívást generálunk, amelyek egészen a végső állapotokig terjednek. Amikor ezek a rekurzív hívások visszamennek az eredeti hívotthoz, számos játékállapothoz kiszámoltuk az eredményt. Ezeket az eredményeket a megfelelő „GameState”-ben tároljuk, hogy elkerüljük, hogy újra kiszámoljuk őket.\n",
    "\n",
    "* `board`: egy szótár, amely a játéktáblát tárolja.\n",
    "\n",
    "* `moves`: Az aktuális pozícióból lehetséges legális mozgások listáját tárolja."
   ]
  },
  {
   "cell_type": "code",
   "execution_count": 2,
   "metadata": {},
   "outputs": [],
   "source": [
    "from collections import namedtuple\n",
    "GameState = namedtuple('GameState', 'to_move, utility, board, moves')"
   ]
  },
  {
   "cell_type": "markdown",
   "metadata": {},
   "source": [
    "## \"Játék\" osztály\n",
    "\n",
    "Vessünk egy pillantást a modulunk „Játék” osztályára. Látjuk, hogy vannak függvényei, nevezetesen \"actions\", \"result\", \"utility\", \"terminal_test\", \"to_move\" és \"display\".\n",
    "\n",
    "Látjuk, hogy ezeket a funkciókat valójában nincsenek kifejtve. Ez az osztály csak egy absztrakt osztály; úgy kell létrehoznunk az osztályt a játékunkhoz, hogy örököljük ezt a „Játék” osztályt, és megvalósítjuk a \"Játékban\" említett összes metódust.\n",
    "\n",
    "Most nézzük meg a \"Játék\" osztályunk összes metódusát. Ezeket a módszereket meg kell valósítania, amikor új osztályokat hozunk létre az adott játékhoz.\n",
    "\n",
    "* 'actions(self, state)': Adott játékállapot esetén ez a metódus az összes lehetséges lépést generálja az adott állapotból, listaként vagy generátorként. A generátor visszaadása lista helyett azzal az előnnyel jár, hogy helyet takarít meg, és továbbra is használható listaként.\n",
    "\n",
    "\n",
    "* 'result(self, state, move)': Adott egy játékállapot és egy lépés, ez a metódus azt a játékállapotot adja vissza, amelyet ezen a játékállapoton végzett lépést eredményez.\n",
    "\n",
    "\n",
    "* 'utility(self, state, player)': Adott egy végső játékállapot és egy játékos. Ez a metódus visszaadja az eredményt ha az adott játékos végső játékállapotában. Ennek a módszernek a megvalósítása során tegyük fel, hogy a játék állapota egy végső játékállapot. A modul logikája olyan, hogy ez a metódus csak végső játékállapotokban lesz meghívva.\n",
    "\n",
    "\n",
    "* 'terminal_test(self, state)': Adott játékállapot esetén ennek a metódusnak 'True'-t kell visszaadnia, ha ez a játékállapot végső játékállapot, és 'False' értéket egyébként.\n",
    "\n",
    "\n",
    "* 'to_move(self, state)': Adott játékállapot esetén ez a metódus visszaadja a következő játékost. Ezeket az információkat általában a játék állapotában tárolják, így ez a módszer csak annyit tesz, hogy kivonja ezeket az információkat, és visszaküldi.\n",
    "\n",
    "\n",
    "* 'display(self, state)': Ez a metódus kiírja/megjeleníti a játék aktuális állapotát."
   ]
  },
  {
   "cell_type": "code",
   "execution_count": 3,
   "metadata": {},
   "outputs": [],
   "source": [
    "class Game:\n",
    "    \"\"\"A játék osztály ami nagyon hasonló a probléma osztályhoz. A konstruktort a kezdő állapot beállításához az \n",
    "    ezt az osztály megvalósító gyermek osztályban lesz implementálva\"\"\"\n",
    "\n",
    "    def actions(self, state):\n",
    "        \"\"\"Vissza adja a megengedett mozgások listáját.\"\"\"\n",
    "        raise NotImplementedError\n",
    "\n",
    "    def result(self, state, move):\n",
    "        \"\"\"Vissza adja azt az állapotot, amely egy állapotból való elmozdulás eredménye. \"\"\"\n",
    "        raise NotImplementedError\n",
    "\n",
    "    def utility(self, state, player):\n",
    "        \"\"\"A végső állapotnak az eredményét adja vissza a játékosnak.\"\"\"\n",
    "        raise NotImplementedError\n",
    "\n",
    "    def terminal_test(self, state):\n",
    "        \"\"\"True értéket add vissza, ha ez a játék végső állapota.\"\"\"\n",
    "        return not self.actions(state)\n",
    "\n",
    "    def to_move(self, state):\n",
    "        \"\"\"Adja vissza azt a játékost, akinek a lépése ebben az állapotban van.\"\"\"\n",
    "        return state.to_move\n",
    "\n",
    "    def display(self, state):\n",
    "        \"\"\"Jelenítse meg az adott állapotot.\"\"\"\n",
    "        print(state)\n",
    "\n",
    "    def __repr__(self):\n",
    "        return '<{}>'.format(self.__class__.__name__)\n",
    "\n",
    "    def play_game(self, *players):\n",
    "        \"\"\"N-személyes játék játszás.\"\"\"\n",
    "\n",
    "        # kezdő állapot beállítása\n",
    "        state = self.initial\n",
    "\n",
    "        # Addig tart a játék amíg végső állapotba nem lépünk\n",
    "        while True:\n",
    "            # Veszünk egy játékost\n",
    "            for player in players:\n",
    "                # Adjon egy lépést a választott játékos\n",
    "                move = player(self, state)\n",
    "                # Kérjük vissza annak eredményét, hogy hogyan módosul a játék ha játékos lépést elvégezzük\n",
    "                state = self.result(state, move)                \n",
    "                if self.terminal_test(state):\n",
    "                    # Ha a játékos lépésével előáll egy végső állapot akkor azt kiratjuk és\n",
    "                    # vissza adjuk kinyert\n",
    "                    self.display(state)\n",
    "                    return self.utility(state, self.to_move(self.initial))"
   ]
  },
  {
   "cell_type": "code",
   "execution_count": 4,
   "metadata": {},
   "outputs": [],
   "source": [
    "class TicTacToe(Game):\n",
    "    \"\"\"Egy TicTacToe játék rendelkezik egy táblával. Az első játékos X-el lép míg\n",
    "    a második játékos O-val. A játék tárolja a játékosok lépéseit.\"\"\"\n",
    "\n",
    "    def __init__(self, h=3, v=3, k=3):\n",
    "        \"\"\"TicTacToe konstruktor. Feladata a játék kezdő állapotának megadása.\"\"\"\n",
    "        self.h = h # sorok száma\n",
    "        self.v = v # oszlopok száma\n",
    "        self.k = k # hány egymást követő X-re vagy O-ra van szükség egy sorban, oszlopban vagy átlósan a győzelemhez\n",
    "        moves = [(x, y) for x in range(1, h + 1) for y in range(1, v + 1)] # A kezdőállapotból elérhető összes lehetséges mozgás\n",
    "        self.initial = GameState(to_move='X', utility=0, board={}, moves=moves) # kezdő állapot beállítása\n",
    "\n",
    "    def actions(self, state):\n",
    "        \"\"\"A lehetséges lépések. Valójában minden olyan mező amit még nem foglaltak el\"\"\"\n",
    "        return state.moves\n",
    "\n",
    "    def result(self, state, move):\n",
    "        if move not in state.moves:\n",
    "            return state  # Mert Illegális lépést nem tehetünk!\n",
    "\n",
    "        # készítünk egy másolatot a táblára\n",
    "        board = state.board.copy()\n",
    "\n",
    "        # A táblára beállítjuk az új lépést. Tehát X vagy O\n",
    "        board[move] = state.to_move\n",
    "\n",
    "        # Frissítsük a lehetséges lépések listáját úgy, hogy\n",
    "        # töröljük belőle a megtett lépést\n",
    "        moves = list(state.moves)\n",
    "        moves.remove(move)\n",
    "\n",
    "        # Állítsuk elő az új állapotot\n",
    "        return GameState(to_move=('O' if state.to_move == 'X' else 'X'),\n",
    "                         utility=self.compute_utility(board, move, state.to_move),\n",
    "                         board=board, moves=moves)\n",
    "\n",
    "    def utility(self, state, player):\n",
    "        \"\"\"Visszaadja az értéket a játékosnak; 1 a győzelemért, -1 a vereségért, 0 egyébként.\"\"\"\n",
    "        return state.utility if player == 'X' else -state.utility\n",
    "\n",
    "    def terminal_test(self, state):\n",
    "        \"\"\"Egy állapot akkor végső, ha nyert, vagy nincsenek üres mezők.\"\"\"\n",
    "        return state.utility != 0 or len(state.moves) == 0\n",
    "\n",
    "    def display(self, state):\n",
    "        # Kérjük le a táblát. Ami egy \"dic\" (szótár) objektum\n",
    "        board = state.board\n",
    "\n",
    "        # Járjuk be a táblát\n",
    "        for x in range(1, self.h + 1):\n",
    "            for y in range(1, self.v + 1):\n",
    "                # Írjuk ki az értékét ha van olyan eleme a szótárnak (táblának) ha nincs\n",
    "                # akkor írjunk ki egy pontot\n",
    "                print(board.get((x, y), '.'), end=' ')\n",
    "            print()\n",
    "\n",
    "    def compute_utility(self, board, move, player):\n",
    "        \"\"\"Ha 'X' nyer ezzel a lépéssel, adjon vissza 1-et; ha 'O' nyer, akkor -1; különben vissza 0.\"\"\"\n",
    "        if (self.k_in_row(board, move, player, (0, 1)) or # oszlopok ellenőrzése\n",
    "                self.k_in_row(board, move, player, (1, 0)) or # sorok ellenőrzése\n",
    "                self.k_in_row(board, move, player, (1, -1)) or # / - átló ellenőrzése\n",
    "                self.k_in_row(board, move, player, (1, 1))): # \\ - átló ellenőrzése\n",
    "            return +1 if player == 'X' else -1\n",
    "        else:\n",
    "            return 0\n",
    "\n",
    "    def k_in_row(self, board, move, player, delta_x_y):\n",
    "        \"\"\"Vissza ad egy igaz értéket ha az adott irányba a játékos kigyűjtötte a megfelelő\n",
    "        mennyiségű elemet.\"\"\"\n",
    "        (delta_x, delta_y) = delta_x_y\n",
    "        x, y = move\n",
    "        n = 0  # n a lépések száma a sorban \n",
    "        while board.get((x, y)) == player:\n",
    "            n += 1\n",
    "            x, y = x + delta_x, y + delta_y\n",
    "        x, y = move\n",
    "        while board.get((x, y)) == player:\n",
    "            n += 1\n",
    "            x, y = x - delta_x, y - delta_y\n",
    "        n -= 1  # Mert magát a mozgást kétszer számoltuk\n",
    "        return n >= self.k"
   ]
  },
  {
   "cell_type": "code",
   "execution_count": 5,
   "metadata": {},
   "outputs": [
    {
     "name": "stdout",
     "output_type": "stream",
     "text": [
      ". . . \n",
      ". . . \n",
      ". . . \n"
     ]
    }
   ],
   "source": [
    "ttt = TicTacToe()\n",
    "ttt.display(ttt.initial)"
   ]
  },
  {
   "cell_type": "code",
   "execution_count": 6,
   "metadata": {},
   "outputs": [
    {
     "name": "stdout",
     "output_type": "stream",
     "text": [
      "X O X \n",
      "O . O \n",
      "X . . \n"
     ]
    }
   ],
   "source": [
    "my_state = GameState(\n",
    "    to_move = 'X',\n",
    "    utility = '0',\n",
    "    board = {(1,1): 'X', (1,2): 'O', (1,3): 'X',\n",
    "             (2,1): 'O',             (2,3): 'O',\n",
    "             (3,1): 'X',\n",
    "            },\n",
    "    moves = [(2,2), (3,2), (3,3)]\n",
    "    )\n",
    "\n",
    "ttt.display(my_state)"
   ]
  },
  {
   "cell_type": "code",
   "execution_count": 7,
   "metadata": {},
   "outputs": [
    {
     "data": {
      "text/plain": [
       "(3, 3)"
      ]
     },
     "execution_count": 7,
     "metadata": {},
     "output_type": "execute_result"
    }
   ],
   "source": [
    "import random\n",
    "\n",
    "def random_player(game, state):\n",
    "    \"\"\"A random játékos választ véletleszerűen egyet a lehetséges lépések közül.\"\"\"\n",
    "    return random.choice(game.actions(state)) if game.actions(state) else None\n",
    "\n",
    "random_player(ttt, my_state)"
   ]
  },
  {
   "cell_type": "code",
   "execution_count": 8,
   "metadata": {},
   "outputs": [
    {
     "name": "stdout",
     "output_type": "stream",
     "text": [
      "O X X \n",
      ". O X \n",
      "X O O \n"
     ]
    },
    {
     "data": {
      "text/plain": [
       "-1"
      ]
     },
     "execution_count": 8,
     "metadata": {},
     "output_type": "execute_result"
    }
   ],
   "source": [
    "ttt.play_game(random_player, random_player)"
   ]
  },
  {
   "cell_type": "code",
   "execution_count": 9,
   "metadata": {},
   "outputs": [
    {
     "name": "stdout",
     "output_type": "stream",
     "text": [
      ". . . . . . . . . . \n",
      ". . . . . . . . . . \n",
      ". . . . . . . . . . \n",
      ". . . . . . . . . . \n",
      ". . . . . . . . . . \n",
      ". . . . . . . . . . \n",
      ". . . . . . . . . . \n",
      ". . . . . . . . . . \n",
      ". . . . . . . . . . \n",
      ". . . . . . . . . . \n"
     ]
    }
   ],
   "source": [
    "ttt5 = TicTacToe(h=10, v=10, k=5)\n",
    "ttt5.display(ttt.initial)"
   ]
  },
  {
   "cell_type": "code",
   "execution_count": 10,
   "metadata": {},
   "outputs": [
    {
     "name": "stdout",
     "output_type": "stream",
     "text": [
      "O X . . . X . O . O \n",
      "X X O X X X O X X O \n",
      ". O O O . O O O O O \n",
      ". X O . . . . . . . \n",
      "X . O . O . X O . . \n",
      "X O X O O X . O O O \n",
      "X O X O X X X . X O \n",
      ". . . . X . . X O X \n",
      "X O O X . O X O O X \n",
      "X X . . X . X . X . \n"
     ]
    },
    {
     "data": {
      "text/plain": [
       "-1"
      ]
     },
     "execution_count": 10,
     "metadata": {},
     "output_type": "execute_result"
    }
   ],
   "source": [
    "ttt5.play_game(random_player, random_player)"
   ]
  }
 ],
 "metadata": {
  "interpreter": {
   "hash": "3d2bd7a7448c3ebd5a86db64bf6ae9edc3c45eca3bac2c6c2e40e2e3fa30e33b"
  },
  "kernelspec": {
   "display_name": "Python 3.8.12 ('MetaL')",
   "language": "python",
   "name": "python3"
  },
  "language_info": {
   "codemirror_mode": {
    "name": "ipython",
    "version": 3
   },
   "file_extension": ".py",
   "mimetype": "text/x-python",
   "name": "python",
   "nbconvert_exporter": "python",
   "pygments_lexer": "ipython3",
   "version": "3.8.12"
  },
  "orig_nbformat": 4
 },
 "nbformat": 4,
 "nbformat_minor": 2
}
