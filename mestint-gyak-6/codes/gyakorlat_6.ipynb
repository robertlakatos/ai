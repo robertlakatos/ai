{
 "cells": [
  {
   "cell_type": "markdown",
   "metadata": {},
   "source": [
    "# 6. Gyakrolat\n",
    "![menetrend.png](images/menetrend.png)"
   ]
  },
  {
   "cell_type": "markdown",
   "metadata": {},
   "source": [
    "## NQueens\n",
    "![nqueen.png](images/nqueen.png)"
   ]
  },
  {
   "cell_type": "code",
   "execution_count": null,
   "metadata": {},
   "outputs": [],
   "source": [
    "class NQueens(Problem):\n",
    "    \"\"\"N királynő elhelyezésének problémája egy NxN táblán úgy, hogy egyik sem üti a másikat. \n",
    "    Egy állapotot N-elemű tömbként ábrázolunk, ahol a c-edik bejegyzésben szereplő r értéke azt jelenti, hogy a \n",
    "    c oszlopban, az r sorban van egy királynő, a -1 érték pedig azt, hogy a c-edik oszlop még nem lett kitöltve. \n",
    "    Balról jobbra töltjük ki az oszlopokat.\n",
    "    \"\"\"\n",
    "\n",
    "    def __init__(self, N):\n",
    "        super().__init__(tuple([-1] * N))\n",
    "        self.N = N\n",
    "\n",
    "    def actions(self, state):\n",
    "        \"\"\"A bal szélső üres oszlopban próbálja ki az összes nem ütköző sort. \"\"\"\n",
    "        if state[-1] != -1:\n",
    "            return []  # Minden oszlop kitöltve;\n",
    "        else:\n",
    "            col = state.index(-1)\n",
    "            return [row for row in range(self.N)\n",
    "                    if not self.conflicted(state, row, col)]\n",
    "\n",
    "    def result(self, state, row):\n",
    "        \"\"\"Helyezze a következő királynőt a megadott sorba.\"\"\"\n",
    "        col = state.index(-1)\n",
    "        new = list(state[:])\n",
    "        new[col] = row\n",
    "        return tuple(new)\n",
    "\n",
    "    def conflicted(self, state, row, col):\n",
    "        \"\"\"Egy királynő elhelyezése (sor, oszlop) ütközik?\"\"\"\n",
    "        return any(self.conflict(row, col, state[c], c)\n",
    "                   for c in range(col))\n",
    "\n",
    "    def conflict(self, row1, col1, row2, col2):\n",
    "        \"\"\"Összeütközésbe kerülne két királynő elhelyezése (sor1, oszlop1) és (sor2, oszlop2)?\"\"\"\n",
    "        return (row1 == row2 or  # ugyanabban a sorban\n",
    "                col1 == col2 or  # ugyanabban az oszlopban\n",
    "                row1 - col1 == row2 - col2 or  # ugyanabban az átlóban, irány: \\\n",
    "                row1 + col1 == row2 + col2)  # ugyanabban az átlóban, irány: /\n",
    "\n",
    "    def goal_test(self, state):\n",
    "        \"\"\"Ellenőrizze, hogy minden oszlop megtelt-e és nincs ütközés.\"\"\"\n",
    "        if state[-1] == -1:\n",
    "            return False\n",
    "        return not any(self.conflicted(state, state[col], col)\n",
    "                       for col in range(len(state)))\n",
    "\n",
    "    def h(self, node):\n",
    "        \"\"\"Az ütésben lévő királynők számát adja vissza egy adott csomóponthoz\"\"\"\n",
    "        num_conflicts = 0\n",
    "        for (r1, c1) in enumerate(node.state):\n",
    "            for (r2, c2) in enumerate(node.state):\n",
    "                if (r1, c1) != (r2, c2):\n",
    "                    num_conflicts += self.conflict(r1, c1, r2, c2)\n",
    "\n",
    "        return num_conflicts"
   ]
  },
  {
   "cell_type": "markdown",
   "metadata": {},
   "source": [
    "## Próba hiba módszer"
   ]
  },
  {
   "cell_type": "code",
   "execution_count": 6,
   "metadata": {},
   "outputs": [
    {
     "name": "stdout",
     "output_type": "stream",
     "text": [
      "<Node (2, -1, -1, -1)>\n",
      "<Node (2, 0, -1, -1)>\n",
      "<Node (2, 0, 3, -1)>\n",
      "<Node (2, 0, 3, 1)>\n",
      "Got it\n",
      "<Node (2, 0, 3, 1)>\n"
     ]
    }
   ],
   "source": [
    "from n_queens import NQueens\n",
    "from search import trial_error\n",
    "\n",
    "nqueens = NQueens(4)\n",
    "print(trial_error(nqueens))"
   ]
  },
  {
   "cell_type": "code",
   "execution_count": 7,
   "metadata": {},
   "outputs": [
    {
     "name": "stdout",
     "output_type": "stream",
     "text": [
      "<Node (5, -1, -1, -1, -1, -1, -1, -1)>\n",
      "<Node (5, 2, -1, -1, -1, -1, -1, -1)>\n",
      "<Node (5, 2, 6, -1, -1, -1, -1, -1)>\n",
      "<Node (5, 2, 6, 1, -1, -1, -1, -1)>\n",
      "<Node (5, 2, 6, 1, 7, -1, -1, -1)>\n",
      "<Node (5, 2, 6, 1, 7, 4, -1, -1)>\n",
      "<Node (5, 2, 6, 1, 7, 4, 0, -1)>\n",
      "<Node (5, 2, 6, 1, 7, 4, 0, 3)>\n",
      "Got it\n",
      "<Node (5, 2, 6, 1, 7, 4, 0, 3)>\n"
     ]
    }
   ],
   "source": [
    "from n_queens import NQueens\n",
    "from search import trial_error\n",
    "\n",
    "nqueens = NQueens(8)\n",
    "print(trial_error(nqueens))"
   ]
  },
  {
   "cell_type": "markdown",
   "metadata": {},
   "source": [
    "# A* algoritmus"
   ]
  },
  {
   "cell_type": "code",
   "execution_count": 10,
   "metadata": {},
   "outputs": [
    {
     "name": "stdout",
     "output_type": "stream",
     "text": [
      "<Node (1, 3, 0, 2)>\n"
     ]
    }
   ],
   "source": [
    "from utils import *\n",
    "from node import Node\n",
    "from n_queens import NQueens\n",
    "\n",
    "def best_first_graph_search(problem, f, display=False):\n",
    "    f = memoize(f, 'f')\n",
    "    # kezdő állapot létrehozása\n",
    "    node = Node(problem.initial)\n",
    "    # prioritásos sor létrehozása\n",
    "    frontier = PriorityQueue('min', f)\n",
    "    # kezdő állapot felvétele a prioritásos sorba\n",
    "    frontier.append(node)\n",
    "    # halmaz létrehozása a már megvizsgál elemekhez\n",
    "    explored = set()\n",
    "\n",
    "    # amíg találunk elemet\n",
    "    while frontier:\n",
    "        # elem kivétele a verem tetejéről\n",
    "        node = frontier.pop()\n",
    "        \n",
    "        # ha cél állapotban vagyunk a kkor kész\n",
    "        if problem.goal_test(node.state):\n",
    "            if display:\n",
    "                print(len(explored), \"paths have been expanded and\", len(frontier), \"paths remain in the frontier\")\n",
    "            return node\n",
    "        \n",
    "        # feldolgozott elemek bővítése\n",
    "        explored.add(node.state)\n",
    "\n",
    "        # operátorral legyártott gyermek elemek bejárása\n",
    "        for child in node.expand(problem):\n",
    "            # ha még nem dolgoztuk fel\n",
    "            if child.state not in explored and child not in frontier:\n",
    "                frontier.append(child)\n",
    "            # ha az adott pozicióbol elérhető gyermek függvény szerinti értéke\n",
    "            # kisebb mint a már tárolté akkor újra rögzítjük\n",
    "            elif child in frontier:\n",
    "                if f(child) < frontier[child]:\n",
    "                    del frontier[child]\n",
    "                    frontier.append(child)\n",
    "    return None\n",
    "\n",
    "def astar_search(problem, h=None, display=False):\n",
    "    \"\"\"Az A* keresés a legjobb első gráfkeresés, ahol f(n) = g(n)+h(n). Meg kell adnia a h függvényt csillagkeresés hívásakor, vagy a Probléma alosztályban.\"\"\"\n",
    "    h = memoize(h or problem.h, 'h')\n",
    "    return best_first_graph_search(problem, lambda n: n.path_cost + h(n), display)\n",
    "\n",
    "nqueens = NQueens(4)\n",
    "print(astar_search(nqueens))"
   ]
  },
  {
   "cell_type": "code",
   "execution_count": 2,
   "metadata": {},
   "outputs": [
    {
     "name": "stdout",
     "output_type": "stream",
     "text": [
      "<Node (7, 1, 3, 0, 6, 4, 2, 5)>\n"
     ]
    }
   ],
   "source": [
    "from n_queens import NQueens\n",
    "from search import astar_search\n",
    "\n",
    "nqueens = NQueens(8)\n",
    "print(astar_search(nqueens))"
   ]
  }
 ],
 "metadata": {
  "interpreter": {
   "hash": "3d2bd7a7448c3ebd5a86db64bf6ae9edc3c45eca3bac2c6c2e40e2e3fa30e33b"
  },
  "kernelspec": {
   "display_name": "Python 3.8.12 ('MetaL')",
   "language": "python",
   "name": "python3"
  },
  "language_info": {
   "codemirror_mode": {
    "name": "ipython",
    "version": 3
   },
   "file_extension": ".py",
   "mimetype": "text/x-python",
   "name": "python",
   "nbconvert_exporter": "python",
   "pygments_lexer": "ipython3",
   "version": "3.8.12"
  },
  "orig_nbformat": 4
 },
 "nbformat": 4,
 "nbformat_minor": 2
}
